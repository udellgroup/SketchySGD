{
 "cells": [
  {
   "cell_type": "code",
   "execution_count": 3,
   "id": "7f69b16c",
   "metadata": {},
   "outputs": [],
   "source": [
    "import matplotlib.pyplot as plt\n",
    "from custom_scalar_formatter import CustomScalarFormatter\n",
    "from matplotlib.ticker import NullFormatter\n",
    "import pandas as pd\n",
    "import numpy as np\n",
    "import os"
   ]
  },
  {
   "cell_type": "code",
   "execution_count": 4,
   "id": "fcd404c2",
   "metadata": {},
   "outputs": [],
   "source": [
    "# Ignore runtime warnings\n",
    "import warnings\n",
    "warnings.filterwarnings(\"ignore\", category=RuntimeWarning)"
   ]
  },
  {
   "cell_type": "code",
   "execution_count": 5,
   "id": "7a8cf063",
   "metadata": {},
   "outputs": [],
   "source": [
    "def load_results_opt(results_dir, dataset, opt, n_runs):\n",
    "    results = {}\n",
    "\n",
    "    optimizer = opt['optimizer']\n",
    "    if 'precond' in list(opt.keys()):\n",
    "        preconditioner = opt['precond']\n",
    "        results_dir = os.path.join(results_dir, dataset, optimizer, preconditioner)\n",
    "    else:\n",
    "        results_dir = os.path.join(results_dir, dataset, optimizer)\n",
    "\n",
    "    for i in range(1, n_runs+1):\n",
    "        results_dir_run = os.path.join(results_dir, 'run_' + str(i))\n",
    "        filenames = os.listdir(results_dir_run)        \n",
    "        \n",
    "        if optimizer in ['adasgd','sketchysgd']:\n",
    "            for filename in filenames:\n",
    "                if filename.endswith('.csv'):\n",
    "                    if 'auto' not in list(results.keys()):\n",
    "                        results['auto'] = []\n",
    "\n",
    "                    df = pd.read_csv(os.path.join(results_dir_run, filename))\n",
    "                    results['auto'].append(df)\n",
    "\n",
    "    return results"
   ]
  },
  {
   "cell_type": "code",
   "execution_count": 6,
   "id": "08f8c7a1",
   "metadata": {},
   "outputs": [],
   "source": [
    "def compute_median_quantiles(opt_results, q_lower = 0.1, q_upper = 0.9):\n",
    "    median = {}\n",
    "    ql = {}\n",
    "    qu = {}\n",
    "    for hyperparam in list(opt_results.keys()):\n",
    "        median[hyperparam] = {}\n",
    "        ql[hyperparam] = {}\n",
    "        qu[hyperparam] = {}\n",
    "        n = len(opt_results[hyperparam]) # Number of runs for a given hyperparameter\n",
    "        data_cols = list(opt_results[hyperparam][0].columns[1:]) # Get column names\n",
    "        n_data_rows = len(opt_results[hyperparam][0]) # Number of rows in the data\n",
    "        # print('n_data_rows: ', n_data_rows)\n",
    "        for metric in data_cols:\n",
    "            if metric in ['times', 'train_loss', 'test_loss', 'train_acc', 'test_acc']: # Compute median for these metrics\n",
    "                metric_data = np.zeros((n_data_rows, n))\n",
    "                for i in range(n):\n",
    "                    metric_data[:, i] = opt_results[hyperparam][i][metric].to_numpy()\n",
    "                    metric_data[:, i] = np.nan_to_num(metric_data[:, i], nan = np.inf)\n",
    "                if metric not in list(median[hyperparam].keys()):\n",
    "                        median[hyperparam][metric] = np.median(metric_data, axis = 1)\n",
    "                        ql[hyperparam][metric] = np.quantile(metric_data, q_lower, axis = 1)\n",
    "                        qu[hyperparam][metric] = np.quantile(metric_data, q_upper, axis = 1)\n",
    "\n",
    "    return {'median': median, 'ql': ql, 'qu': qu}\n"
   ]
  },
  {
   "cell_type": "code",
   "execution_count": 7,
   "id": "b09a8a3d",
   "metadata": {},
   "outputs": [],
   "source": [
    "def get_median_qu_ql_results(results_dir, dataset, opts, n_runs):\n",
    "    median_results = {}\n",
    "    ql_results = {}\n",
    "    qu_results = {}\n",
    "    for opt in opts:\n",
    "        if isinstance(opt, tuple):\n",
    "            opt_dict = {'optimizer': opt[0], 'precond': opt[1]}\n",
    "        else:\n",
    "            opt_dict = {'optimizer': opt}\n",
    "        opt_results = load_results_opt(results_dir, dataset, opt_dict, n_runs)\n",
    "        opt_m_q = compute_median_quantiles(opt_results)\n",
    "        opt_medians = opt_m_q['median']\n",
    "        opt_ql = opt_m_q['ql']\n",
    "        opt_qu = opt_m_q['qu']\n",
    "        median_results[opt] = opt_medians\n",
    "        ql_results[opt] = opt_ql\n",
    "        qu_results[opt] = opt_qu\n",
    "\n",
    "    return median_results, ql_results, qu_results"
   ]
  },
  {
   "cell_type": "code",
   "execution_count": 8,
   "id": "9ca89b9b",
   "metadata": {},
   "outputs": [],
   "source": [
    "def get_opt_precond_name(opt):\n",
    "    if isinstance(opt, tuple):\n",
    "        opt_name = opt[0]\n",
    "        precond_name = opt[1]\n",
    "    else:\n",
    "        opt_name = opt\n",
    "        precond_name = None\n",
    "    \n",
    "    return opt_name, precond_name"
   ]
  },
  {
   "cell_type": "code",
   "execution_count": 9,
   "id": "cdde2092",
   "metadata": {},
   "outputs": [],
   "source": [
    "def get_curve_params(opt_name, precond_name, markers, colors, opt_plot_names, precond_plot_names):\n",
    "    if opt_name == 'sketchysgd':\n",
    "        linestyle = 'dashed'\n",
    "        marker = markers[precond_name]\n",
    "        color = colors[(opt_name, precond_name)]\n",
    "        label = f\"{opt_plot_names[opt_name]} ({precond_plot_names[precond_name]})\"\n",
    "    else:\n",
    "        linestyle = 'solid'\n",
    "        marker = None\n",
    "        color = colors[opt_name]\n",
    "        label = opt_plot_names[opt_name]\n",
    "\n",
    "    return linestyle, marker, color, label"
   ]
  },
  {
   "cell_type": "code",
   "execution_count": 10,
   "id": "92969ef8",
   "metadata": {},
   "outputs": [],
   "source": [
    "def get_legend(results_keys, markers, colors, opt_plot_names, precond_plot_names):\n",
    "    from matplotlib.lines import Line2D \n",
    "    legend_elements = []\n",
    "    for opt in list(results_keys):\n",
    "        opt_name, precond_name = get_opt_precond_name(opt)\n",
    "        linestyle, marker, color, label = get_curve_params(opt_name, precond_name, markers, colors, opt_plot_names, precond_plot_names)\n",
    "        legend_elements.append(Line2D([0], [0], color=color, label=label, linestyle = linestyle, marker = marker))\n",
    "    return legend_elements"
   ]
  },
  {
   "cell_type": "code",
   "execution_count": 11,
   "id": "6bc66864",
   "metadata": {},
   "outputs": [],
   "source": [
    "def plot_opt_curve(median_results, ql_results, qu_results, opt, key, best_hyperparam, xaxis, opt_name, metric, color,\n",
    "                    linestyle, marker, axes):\n",
    "    # If we are plotting something other than sketchysgd that does not correspond to the best hyperparameter, make it invisible\n",
    "    if opt in ['sgd', 'svrg', 'saga', 'slbfgs', 'lkatyusha'] and key != best_hyperparam:\n",
    "        alpha = 0\n",
    "    else:\n",
    "        alpha = 1\n",
    "\n",
    "    if xaxis['name'] == 'time':\n",
    "        x = np.cumsum(median_results[opt][key]['times'])\n",
    "    elif xaxis['name'] == 'full_data_passes':\n",
    "        x = np.arange(len(median_results[opt][key]['times'])) + 1\n",
    "        if opt_name in ['svrg', 'lkatyusha', 'slbfgs']:\n",
    "            x = 2*x\n",
    "\n",
    "    if 'loss' in metric['name']:\n",
    "        axes.semilogy(x, median_results[opt][key][metric['name']],\n",
    "                        color, alpha = alpha, linestyle = linestyle, marker = marker, markevery = 10)\n",
    "        axes.fill_between(x, ql_results[opt][key][metric['name']], qu_results[opt][key][metric['name']],\n",
    "                            color = color, alpha = alpha*0.2)\n",
    "    else:\n",
    "        axes.plot(x, median_results[opt][key][metric['name']],\n",
    "                    color, alpha = alpha, linestyle = linestyle, marker = marker, markevery = 10)\n",
    "        axes.fill_between(x, ql_results[opt][key][metric['name']], qu_results[opt][key][metric['name']],\n",
    "                            color = color, alpha = alpha*0.2)"
   ]
  },
  {
   "cell_type": "code",
   "execution_count": 12,
   "id": "912e3abf",
   "metadata": {},
   "outputs": [],
   "source": [
    "results_dir = '../simods_lr_ablation_results'\n",
    "opts = ['adasgd', ('sketchysgd', 'nystrom')]\n",
    "metrics = [{'name': 'train_loss', 'label': 'Training Loss'}]\n",
    "colors = {'adasgd': 'tab:red', ('sketchysgd', 'nystrom'): 'tab:green'}\n",
    "opt_plot_names = {'adasgd': 'Adaptive SGD', 'sketchysgd': 'SketchySGD'}\n",
    "precond_plot_names = {'nystrom': r'Nystr$\\ddot{\\mathrm{o}}$m'}\n",
    "markers = {'nystrom': '^'}\n",
    "xaxes = [{'name': 'full_data_passes', 'label': 'Full data passes'}]\n",
    "nruns = 10"
   ]
  },
  {
   "cell_type": "code",
   "execution_count": 13,
   "id": "a5ef1b61",
   "metadata": {},
   "outputs": [],
   "source": [
    "median_results, ql_results, qu_results = get_median_qu_ql_results(results_dir, 'ijcnn1', opts, 10)"
   ]
  },
  {
   "cell_type": "code",
   "execution_count": 14,
   "id": "34dac20f",
   "metadata": {},
   "outputs": [],
   "source": [
    "def get_curve_params(opt_name, precond_name, markers, colors, opt_plot_names, precond_plot_names):\n",
    "    if opt_name == 'sketchysgd':\n",
    "        linestyle = 'dashed'\n",
    "        marker = markers[precond_name]\n",
    "        color = colors[(opt_name, precond_name)]\n",
    "        label = f\"{opt_plot_names[opt_name]} ({precond_plot_names[precond_name]})\"\n",
    "    else:\n",
    "        linestyle = 'solid'\n",
    "        marker = None\n",
    "        color = colors[opt_name]\n",
    "        label = opt_plot_names[opt_name]\n",
    "\n",
    "    return linestyle, marker, color, label"
   ]
  },
  {
   "cell_type": "code",
   "execution_count": 15,
   "id": "c2441978",
   "metadata": {},
   "outputs": [],
   "source": [
    "def plot_opt_curve(median_results, ql_results, qu_results, opt, key, xaxis, metric, color,\n",
    "                    linestyle, marker, opt_name,axes):\n",
    "\n",
    "    x = np.arange(len(median_results[opt][key]['times'])) + 1\n",
    "\n",
    "    axes.plot(x, median_results[opt][key]['train_loss'],\n",
    "                    color, alpha = 1, linestyle = linestyle, marker = marker, markevery = 10,label = opt_name)\n",
    "    axes.fill_between(x, ql_results[opt][key]['train_loss'], qu_results[opt][key]['train_loss'],\n",
    "                            color = color, alpha = 0.2)"
   ]
  },
  {
   "cell_type": "code",
   "execution_count": 30,
   "id": "10cce760",
   "metadata": {},
   "outputs": [],
   "source": [
    "def save(fig_name, fig):\n",
    "    plt.savefig(fig_name, bbox_inches='tight', format='pdf')"
   ]
  },
  {
   "cell_type": "code",
   "execution_count": 28,
   "id": "5180b5bd",
   "metadata": {},
   "outputs": [],
   "source": [
    "# Render plots in LaTeX\n",
    "plt.rc('text', usetex = True)\n",
    "plt.rc('font', family = 'serif')\n"
   ]
  },
  {
   "cell_type": "code",
   "execution_count": 31,
   "id": "6f567f2e",
   "metadata": {},
   "outputs": [
    {
     "data": {
      "image/png": "[encoded data removed]",
      "text/plain": [
       "<Figure size 432x288 with 1 Axes>"
      ]
     },
     "metadata": {
      "needs_background": "light"
     },
     "output_type": "display_data"
    }
   ],
   "source": [
    "fig = plt.figure()\n",
    "axes = plt.gca()\n",
    "axes.set_title('ijcnn1-rf', fontsize=14)\n",
    "axes.set_ylim([2e-1, 4e-1])\n",
    "axes.tick_params(axis='both', which='major', labelsize=14)\n",
    "axes.tick_params(axis='both', which='minor', labelsize=10)\n",
    "axes.set_xlabel('Full gradient evaluations', fontsize=14)\n",
    "axes.set_ylabel('Training Loss', fontsize=14)\n",
    "plot_opt_curve(median_results, ql_results, qu_results, 'adasgd', 'auto', xaxes[0], 'train_loss', 'tab:red',\n",
    "                    'dashed', None,'Adaptive SGD',axes)\n",
    "plot_opt_curve(median_results, ql_results, qu_results, ('sketchysgd','nystrom'), 'auto', xaxes[0], 'train_loss', 'tab:green',\n",
    "                    'dashed', None, 'SketchySGD', axes)\n",
    "plt.legend(fontsize = 14)\n",
    "save('lr_ablation_ijcnn1-rf',fig)"
   ]
  },
  {
   "cell_type": "code",
   "execution_count": 34,
   "id": "65b50b12",
   "metadata": {},
   "outputs": [],
   "source": [
    "median_results, ql_results, qu_results = get_median_qu_ql_results(results_dir, 'e2006', opts, 10)"
   ]
  },
  {
   "cell_type": "code",
   "execution_count": 35,
   "id": "9c2cc030",
   "metadata": {},
   "outputs": [
    {
     "data": {
      "image/png": "[encoded data removed]",
      "text/plain": [
       "<Figure size 432x288 with 1 Axes>"
      ]
     },
     "metadata": {
      "needs_background": "light"
     },
     "output_type": "display_data"
    }
   ],
   "source": [
    "fig = plt.figure()\n",
    "axes = plt.gca()\n",
    "axes.set_title('e2006', fontsize=14)\n",
    "axes.set_ylim([1.4e-1, 2.4e-1])\n",
    "axes.tick_params(axis='both', which='major', labelsize=14)\n",
    "axes.tick_params(axis='both', which='minor', labelsize=10)\n",
    "axes.set_xlabel('Full gradient evaluations', fontsize=14)\n",
    "axes.set_ylabel('Training Loss', fontsize=14)\n",
    "plot_opt_curve(median_results, ql_results, qu_results, 'adasgd', 'auto', xaxes[0], 'train_loss', 'tab:red',\n",
    "                    'dashed', None,'Adaptive SGD',axes)\n",
    "plot_opt_curve(median_results, ql_results, qu_results, ('sketchysgd','nystrom'), 'auto', xaxes[0], 'train_loss', 'tab:green',\n",
    "                    'dashed', None, 'SketchySGD', axes)\n",
    "plt.legend(fontsize = 14)\n",
    "save('lr_ablation_e2006',fig)\n"
   ]
  },
  {
   "cell_type": "code",
   "execution_count": null,
   "id": "6efbff84",
   "metadata": {},
   "outputs": [],
   "source": []
  },
  {
   "cell_type": "code",
   "execution_count": null,
   "id": "18d396fe",
   "metadata": {},
   "outputs": [],
   "source": []
  }
 ],
 "metadata": {
  "kernelspec": {
   "display_name": "Python 3 (ipykernel)",
   "language": "python",
   "name": "python3"
  },
  "language_info": {
   "codemirror_mode": {
    "name": "ipython",
    "version": 3
   },
   "file_extension": ".py",
   "mimetype": "text/x-python",
   "name": "python",
   "nbconvert_exporter": "python",
   "pygments_lexer": "ipython3",
   "version": "3.9.12"
  }
 },
 "nbformat": 4,
 "nbformat_minor": 5
}
