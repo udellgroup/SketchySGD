{
 "cells": [
  {
   "cell_type": "code",
   "execution_count": null,
   "id": "1b146c80",
   "metadata": {},
   "outputs": [],
   "source": [
    "import lr_ablation_experiment"
   ]
  },
  {
   "cell_type": "code",
   "execution_count": null,
   "id": "487ddfab",
   "metadata": {},
   "outputs": [],
   "source": [
    "#AdaSGD logistic\n",
    "dataset = 'ijcnn1'\n",
    "precond_type ='none'\n",
    "problem_class= 'logistic'\n",
    "epochs=40\n",
    "n_runs = 10\n",
    "mu=0.01\n",
    "opt = 'adasgd'\n",
    "results_dest = './simods_lr_ablation_results'"
   ]
  },
  {
   "cell_type": "code",
   "execution_count": null,
   "id": "5aac60dd",
   "metadata": {},
   "outputs": [],
   "source": [
    "lr_ablation_experiment.main(dataset,problem_class, opt, precond_type,epochs, mu,n_runs,results_dest)"
   ]
  },
  {
   "cell_type": "code",
   "execution_count": null,
   "id": "67801ec8",
   "metadata": {},
   "outputs": [],
   "source": [
    "#AdaSGD least-squares\n",
    "dataset = 'e2006'\n",
    "precond_type ='none'\n",
    "problem_class= 'least_squares'\n",
    "epochs=40\n",
    "n_runs = 10\n",
    "mu=0.01\n",
    "opt = 'adasgd'\n",
    "results_dest = './simods_lr_ablation_results'"
   ]
  },
  {
   "cell_type": "code",
   "execution_count": null,
   "id": "a7b4781e",
   "metadata": {},
   "outputs": [],
   "source": [
    "lr_ablation_experiment.main(dataset,problem_class, opt, precond_type,epochs, mu,n_runs,results_dest)"
   ]
  },
  {
   "cell_type": "code",
   "execution_count": null,
   "id": "d848013d",
   "metadata": {},
   "outputs": [],
   "source": [
    "#SketchySGD Logistic\n",
    "dataset = 'ijcnn1'\n",
    "precond_type ='nystrom'\n",
    "problem_class= 'logistic'\n",
    "epochs=40\n",
    "n_runs = 10\n",
    "mu=0.01\n",
    "opt = 'sketchysgd'\n",
    "results_dest = './simods_lr_ablation_results'"
   ]
  },
  {
   "cell_type": "code",
   "execution_count": null,
   "id": "4cbd025b",
   "metadata": {},
   "outputs": [],
   "source": [
    "lr_ablation_experiment.main(dataset,problem_class, opt, precond_type,epochs, mu,n_runs,results_dest)"
   ]
  },
  {
   "cell_type": "code",
   "execution_count": null,
   "id": "ee17b1bb",
   "metadata": {},
   "outputs": [],
   "source": [
    "#SketchySGD least-squares\n",
    "dataset = 'e2006'\n",
    "precond_type ='nystrom'\n",
    "problem_class= 'least_squares'\n",
    "epochs=40\n",
    "n_runs = 10\n",
    "mu=0.01\n",
    "opt = 'sketchysgd'\n",
    "results_dest = './simods_lr_ablation_results'"
   ]
  },
  {
   "cell_type": "code",
   "execution_count": null,
   "id": "55d364d4",
   "metadata": {},
   "outputs": [],
   "source": [
    "lr_ablation_experiment.main(dataset,problem_class, opt, precond_type,epochs, mu,n_runs,results_dest)"
   ]
  }
 ],
 "metadata": {
  "kernelspec": {
   "display_name": "Python 3 (ipykernel)",
   "language": "python",
   "name": "python3"
  },
  "language_info": {
   "codemirror_mode": {
    "name": "ipython",
    "version": 3
   },
   "file_extension": ".py",
   "mimetype": "text/x-python",
   "name": "python",
   "nbconvert_exporter": "python",
   "pygments_lexer": "ipython3",
   "version": "3.9.12"
  }
 },
 "nbformat": 4,
 "nbformat_minor": 5
}
